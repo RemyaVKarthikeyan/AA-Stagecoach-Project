{
  "nbformat": 4,
  "nbformat_minor": 0,
  "metadata": {
    "colab": {
      "provenance": [],
      "authorship_tag": "ABX9TyPhI1jQfhREP+T2URiQItLX",
      "include_colab_link": true
    },
    "kernelspec": {
      "name": "python3",
      "display_name": "Python 3"
    },
    "language_info": {
      "name": "python"
    }
  },
  "cells": [
    {
      "cell_type": "markdown",
      "metadata": {
        "id": "view-in-github",
        "colab_type": "text"
      },
      "source": [
        "<a href=\"https://colab.research.google.com/github/RemyaVKarthikeyan/AA-Stagecoach-Project/blob/main/File_Share_11_Fetching_the_time_table_of_a_given_stop_point_of_given_lineID%2C_direction_(based_on_day_of_the_week).ipynb\" target=\"_parent\"><img src=\"https://colab.research.google.com/assets/colab-badge.svg\" alt=\"Open In Colab\"/></a>"
      ]
    },
    {
      "cell_type": "markdown",
      "source": [
        "Fetching Time table based on the day of the week (-based on day of the week-changing the time in the timetabe to HR: MIN format)- dividing to slots based on HR - Finding the number of scheduled buses in the given hr considering the present time and displaying the time table slots corresponding to the present HR, Hr-1 and HR+1"
      ],
      "metadata": {
        "id": "CxTRECLi66HY"
      }
    },
    {
      "cell_type": "code",
      "source": [
        "import requests\n",
        "from datetime import datetime\n",
        "import pytz\n",
        "\n",
        "# Function to fetch data from the API\n",
        "def fetch_data(url):\n",
        "    response = requests.get(url)\n",
        "    return response.json()\n",
        "\n",
        "# Function to extract schedule names\n",
        "def extract_schedule_names(data, schedule_names_dict={}):\n",
        "    if isinstance(data, dict):\n",
        "        if data.get('$type') == \"Tfl.Api.Presentation.Entities.Schedule, Tfl.Api.Presentation.Entities\" and 'knownJourneys' in data:\n",
        "            if 'name' in data:\n",
        "                schedule_names_dict[data['name']] = data['knownJourneys']\n",
        "        for key, value in data.items():\n",
        "            extract_schedule_names(value, schedule_names_dict)\n",
        "    elif isinstance(data, list):\n",
        "        for item in data:\n",
        "            extract_schedule_names(item, schedule_names_dict)\n",
        "    return schedule_names_dict\n",
        "\n",
        "# Function to categorize journeys into hourly slots\n",
        "def categorize_into_slots(timetable):\n",
        "    slots = [[] for _ in range(24)]\n",
        "    for journey in timetable:\n",
        "        hour = int(journey['hour'])  # Convert hour to integer\n",
        "        if 0 <= hour < 24:  # Ensure hour is within the valid range\n",
        "            slots[hour].append(journey)\n",
        "    return slots\n",
        "\n",
        "# Function to calculate the number of buses between the first time available in the slot and the current time\n",
        "def calculate_buses(slot, current_hour, current_minute):\n",
        "    bus_count = 0\n",
        "    for journey in slot:\n",
        "        journey_hour = int(journey['hour'])\n",
        "        journey_minute = int(journey['minute'])\n",
        "        if journey_hour == current_hour and journey_minute <= current_minute:\n",
        "            bus_count += 1\n",
        "    return bus_count\n",
        "\n",
        "# Main function to get user input and print the schedule names and timetable\n",
        "def main():\n",
        "    line_id = input(\"Enter the line ID: \")\n",
        "    stop_point_id = input(\"Enter the stop point ID: \")\n",
        "    direction = input(\"Enter the direction (outbound/inbound): \")\n",
        "\n",
        "    # Construct the URL\n",
        "    url = f'https://api.tfl.gov.uk/Line/{line_id}/Timetable/{stop_point_id}?direction={direction}'\n",
        "\n",
        "    # Fetching data\n",
        "    data = fetch_data(url)\n",
        "\n",
        "    # Extracting schedule names\n",
        "    schedule_names_dict = extract_schedule_names(data)\n",
        "\n",
        "    # Printing the extracted schedule names as a numbered list\n",
        "    print(\"Schedule Names:\")\n",
        "    schedule_names = list(schedule_names_dict.keys())\n",
        "    for i, name in enumerate(schedule_names, start=1):\n",
        "        print(f\"{i}. {name}\")\n",
        "\n",
        "    # Asking the user to select a schedule\n",
        "    selected_number = int(input(\"Enter the number corresponding to the schedule name (which matches with the day of the week): \"))\n",
        "    selected_schedule_name = schedule_names[selected_number - 1]\n",
        "\n",
        "    # Categorizing the timetable into hourly slots\n",
        "    timetable = schedule_names_dict[selected_schedule_name]\n",
        "    slots = categorize_into_slots(timetable)\n",
        "\n",
        "    # Get the current time in BST\n",
        "    bst = pytz.timezone('Europe/London')\n",
        "    now = datetime.now(bst)\n",
        "    current_hour = now.hour\n",
        "    current_minute = now.minute\n",
        "\n",
        "    # Calculate the number of buses scheduled between the first time available in the current slot and the current time\n",
        "    bus_count = calculate_buses(slots[current_hour], current_hour, current_minute)\n",
        "    print(f\"\\nNumber of buses scheduled between the first time available in the current slot and now: {bus_count}\")\n",
        "\n",
        "    # Print the timetable slots corresponding to the current hour, the previous hour, and the next hour\n",
        "    hours_to_print = [current_hour - 1, current_hour, current_hour + 1]\n",
        "    print(\"\\nTimetable:\")\n",
        "    print(\"Time   Line ID  Stop Point ID  Direction\")\n",
        "    for hour in hours_to_print:\n",
        "        if 0 <= hour < 24:\n",
        "            print(f\"\\nSlot {hour}:\")\n",
        "            for journey in slots[hour]:\n",
        "                journey_hour = str(journey['hour']).zfill(2)\n",
        "                journey_minute = str(journey['minute']).zfill(2)\n",
        "                time = f\"{journey_hour}:{journey_minute}\"\n",
        "                print(f\"{time}   {line_id}    {stop_point_id}  {direction.capitalize()}\")\n",
        "\n",
        "# Run the main function\n",
        "if __name__ == \"__main__\":\n",
        "    main()\n"
      ],
      "metadata": {
        "colab": {
          "base_uri": "https://localhost:8080/"
        },
        "id": "L5r_mJq_J-ha",
        "outputId": "94d3fa48-6901-4af8-83dc-21ddd1569a3f"
      },
      "execution_count": 3,
      "outputs": [
        {
          "output_type": "stream",
          "name": "stdout",
          "text": [
            "Enter the line ID: 179\n",
            "Enter the stop point ID: 490005183E\n",
            "Enter the direction (outbound/inbound): outbound\n",
            "Schedule Names:\n",
            "1. Mon-Fri Non-Schooldays\n",
            "2. Mon-Fri Schooldays\n",
            "3. Saturday\n",
            "4. Sunday\n",
            "Enter the number corresponding to the schedule name (which matches with the day of the week): 2\n",
            "\n",
            "Number of buses scheduled between the first time available in the current slot and now: 3\n",
            "\n",
            "Timetable:\n",
            "Time   Line ID  Stop Point ID  Direction\n",
            "\n",
            "Slot 16:\n",
            "16:10   179    490005183E  Outbound\n",
            "16:23   179    490005183E  Outbound\n",
            "16:35   179    490005183E  Outbound\n",
            "16:48   179    490005183E  Outbound\n",
            "\n",
            "Slot 17:\n",
            "17:00   179    490005183E  Outbound\n",
            "17:13   179    490005183E  Outbound\n",
            "17:25   179    490005183E  Outbound\n",
            "17:37   179    490005183E  Outbound\n",
            "17:49   179    490005183E  Outbound\n",
            "\n",
            "Slot 18:\n",
            "18:01   179    490005183E  Outbound\n",
            "18:13   179    490005183E  Outbound\n",
            "18:25   179    490005183E  Outbound\n",
            "18:37   179    490005183E  Outbound\n",
            "18:49   179    490005183E  Outbound\n"
          ]
        }
      ]
    }
  ]
}