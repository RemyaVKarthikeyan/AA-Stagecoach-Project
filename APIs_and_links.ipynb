{
  "nbformat": 4,
  "nbformat_minor": 0,
  "metadata": {
    "colab": {
      "provenance": [],
      "authorship_tag": "ABX9TyMcREFzrV02f5ONnJixgrmm",
      "include_colab_link": true
    },
    "kernelspec": {
      "name": "python3",
      "display_name": "Python 3"
    },
    "language_info": {
      "name": "python"
    }
  },
  "cells": [
    {
      "cell_type": "markdown",
      "metadata": {
        "id": "view-in-github",
        "colab_type": "text"
      },
      "source": [
        "<a href=\"https://colab.research.google.com/github/RemyaVKarthikeyan/AA-Stagecoach-Project/blob/main/APIs_and_links.ipynb\" target=\"_parent\"><img src=\"https://colab.research.google.com/assets/colab-badge.svg\" alt=\"Open In Colab\"/></a>"
      ]
    },
    {
      "cell_type": "code",
      "execution_count": null,
      "metadata": {
        "id": "qZnyZYJL2iZJ"
      },
      "outputs": [],
      "source": []
    },
    {
      "cell_type": "markdown",
      "source": [
        "https://tfl.gov.uk/bus/route/214?direction=inbound"
      ],
      "metadata": {
        "id": "FX_BhEAW2mR6"
      }
    },
    {
      "cell_type": "markdown",
      "source": [
        "https://api.tfl.gov.uk/Stoppoint?lat=51.474028&lon=-0.196278&stopTypes=NaptanPublicBusCoachTram&radius=200"
      ],
      "metadata": {
        "id": "-FxfB-RQ2mVC"
      }
    },
    {
      "cell_type": "markdown",
      "source": [
        "https://api.tfl.gov.uk/Line/214/Arrivals/490010012N"
      ],
      "metadata": {
        "id": "bCRBZpk72mX4"
      }
    },
    {
      "cell_type": "markdown",
      "source": [
        "https://api.tfl.gov.uk/StopPoint/490015195M/Arrivals"
      ],
      "metadata": {
        "id": "-nIAchao2may"
      }
    },
    {
      "cell_type": "markdown",
      "source": [
        "1.https://api.tfl.gov.uk//Line/22/Arrivals"
      ],
      "metadata": {
        "id": "4YgKQxnv2mdq"
      }
    },
    {
      "cell_type": "markdown",
      "source": [
        "2.https://api.tfl.gov.uk/Line/22/Route/Sequence/outbound"
      ],
      "metadata": {
        "id": "uXz282MO2mgV"
      }
    },
    {
      "cell_type": "markdown",
      "source": [],
      "metadata": {
        "id": "o3mf5epF2mjK"
      }
    },
    {
      "cell_type": "markdown",
      "source": [],
      "metadata": {
        "id": "tO6JoOhP2ml5"
      }
    },
    {
      "cell_type": "markdown",
      "source": [],
      "metadata": {
        "id": "-FeWZFYl2mok"
      }
    },
    {
      "cell_type": "markdown",
      "source": [],
      "metadata": {
        "id": "rx7MZMLl2mrc"
      }
    },
    {
      "cell_type": "markdown",
      "source": [],
      "metadata": {
        "id": "tUv03tmI2muH"
      }
    },
    {
      "cell_type": "markdown",
      "source": [],
      "metadata": {
        "id": "HCSbhSzJ2mxO"
      }
    },
    {
      "cell_type": "markdown",
      "source": [],
      "metadata": {
        "id": "0ntXYTmw2m0C"
      }
    },
    {
      "cell_type": "markdown",
      "source": [],
      "metadata": {
        "id": "FyXWtQiW2m2w"
      }
    }
  ]
}