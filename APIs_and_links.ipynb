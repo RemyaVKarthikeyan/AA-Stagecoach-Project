{
  "nbformat": 4,
  "nbformat_minor": 0,
  "metadata": {
    "colab": {
      "provenance": [],
      "authorship_tag": "ABX9TyMGbXo7QQNkDyrY0igNj4bL",
      "include_colab_link": true
    },
    "kernelspec": {
      "name": "python3",
      "display_name": "Python 3"
    },
    "language_info": {
      "name": "python"
    }
  },
  "cells": [
    {
      "cell_type": "markdown",
      "metadata": {
        "id": "view-in-github",
        "colab_type": "text"
      },
      "source": [
        "<a href=\"https://colab.research.google.com/github/RemyaVKarthikeyan/AA-Stagecoach-Project/blob/main/APIs_and_links.ipynb\" target=\"_parent\"><img src=\"https://colab.research.google.com/assets/colab-badge.svg\" alt=\"Open In Colab\"/></a>"
      ]
    },
    {
      "cell_type": "code",
      "execution_count": null,
      "metadata": {
        "id": "qZnyZYJL2iZJ"
      },
      "outputs": [],
      "source": []
    },
    {
      "cell_type": "markdown",
      "source": [
        "https://tfl.gov.uk/bus/route/214?direction=inbound"
      ],
      "metadata": {
        "id": "FX_BhEAW2mR6"
      }
    },
    {
      "cell_type": "markdown",
      "source": [
        "https://api.tfl.gov.uk/Stoppoint?lat=51.474028&lon=-0.196278&stopTypes=NaptanPublicBusCoachTram&radius=200"
      ],
      "metadata": {
        "id": "-FxfB-RQ2mVC"
      }
    },
    {
      "cell_type": "markdown",
      "source": [
        "https://api.tfl.gov.uk/Line/214/Arrivals/490010012N"
      ],
      "metadata": {
        "id": "bCRBZpk72mX4"
      }
    },
    {
      "cell_type": "markdown",
      "source": [
        "https://api.tfl.gov.uk/StopPoint/490015195M/Arrivals"
      ],
      "metadata": {
        "id": "-nIAchao2may"
      }
    },
    {
      "cell_type": "markdown",
      "source": [
        "1.https://api.tfl.gov.uk//Line/22/Arrivals"
      ],
      "metadata": {
        "id": "4YgKQxnv2mdq"
      }
    },
    {
      "cell_type": "markdown",
      "source": [
        "2.https://api.tfl.gov.uk/Line/22/Route/Sequence/outbound"
      ],
      "metadata": {
        "id": "uXz282MO2mgV"
      }
    },
    {
      "cell_type": "markdown",
      "source": [
        "http://www.londonbusroutes.net/times/D07.htm#roads"
      ],
      "metadata": {
        "id": "o3mf5epF2mjK"
      }
    },
    {
      "cell_type": "markdown",
      "source": [
        "\n",
        "http://www.londonbusroutes.net/details.htm\n",
        "\n"
      ],
      "metadata": {
        "id": "tO6JoOhP2ml5"
      }
    },
    {
      "cell_type": "markdown",
      "source": [
        "http://www.londonbusroutes.net/index.htm"
      ],
      "metadata": {
        "id": "-FeWZFYl2mok"
      }
    },
    {
      "cell_type": "markdown",
      "source": [
        "https://api.tfl.gov.uk/StopPoint/490015195M/Arrivals\n",
        "https://api.tfl.gov.uk//Line/22/Arrivals"
      ],
      "metadata": {
        "id": "rx7MZMLl2mrc"
      }
    },
    {
      "cell_type": "markdown",
      "source": [
        "https://api.tfl.gov.uk//Line/22/Arrivals\n",
        "https://api.tfl.gov.uk/Line/22/Route/Sequence/outbound\n",
        "https://api.tfl.gov.uk/line/mode/bus\n",
        "https://api.tfl.gov.uk/line/214/Stoppoints\n",
        "https://www.google.com/search?q=tfl+api+to+get+all+the+stoppoints+of+a+lineid&rlz=1C1GCEA_enGB1114GB1114&oq=&gs_lcrp=EgZjaHJvbWUqCQgAECMYJxjqAjIJCAAQIxgnGOoCMgkIARAjGCcY6gIyCQgCECMYJxjqAjIJCAMQIxgnGOoCMgkIBBAjGCcY6gIyCQgFECMYJxjqAjIJCAYQIxgnGOoCMgkIBxAjGCcY6gLSAQk2NDMzNGowajeoAgiwAgE&sourceid=chrome&ie=UTF-8\n",
        "\n",
        "\n",
        "\n",
        "https://api-portal.tfl.gov.uk/api-details#api=Line&operation=Line_RouteSequenceByPathIdPathDirectionQueryServiceTypesQueryExcludeCrowding"
      ],
      "metadata": {
        "id": "tUv03tmI2muH"
      }
    },
    {
      "cell_type": "markdown",
      "source": [
        "https://api.tfl.gov.uk/Line/Mode/bus/Route\n",
        "https://api.tfl.gov.uk/swagger/ui/index.html?url=/swagger/docs/v1#!/Line/Line_Timetable\n",
        "https://api.tfl.gov.uk/swagger/ui/index.html?url=/swagger/docs/v1#!/Line/Line_Timetable\n",
        "https://api.tfl.gov.uk/Line/214/Timetable/490008660N\n",
        "https://api.tfl.gov.uk/Line/22/Arrivals/490012375E\n",
        "https://api.tfl.gov.uk/Line/22/stoppoints\n",
        "https://api.tfl.gov.uk/Line/22/StopPoints?direction=outbound\n",
        "\n",
        "https://www.google.com/search?q=how+to+find+the+qsi+points+of+a+given+lineId+bus+in+given+direction+from+TFL+api&rlz=1C1GCEA_enGB1114GB1114&oq=how+to+find+the+qsi+points+of+a+given+lineId+bus+in+given+direction+from+TFL+api&gs_lcrp=EgZjaHJvbWUyBggAEEUYOdIBCTMyMjM4ajBqN6gCCLACAQ&sourceid=chrome&ie=UTF-8\n",
        "\n",
        "https://api-portal.tfl.gov.uk/apis\n",
        "\n",
        "https://api-portal.tfl.gov.uk/api-details#api=Line&operation=Line_TimetableToByPathFromStopPointIdPathIdPathToStopPointId\n",
        "\n",
        "https://api.tfl.gov.uk/Line/22/Route/Sequence/outbound\n",
        "\n",
        "https://api.tfl.gov.uk/Line/179/Timetable/490005183E?direction=outbound\n",
        "\n",
        "https://api.tfl.gov.uk/Line/214/Timetable/490015209C/to/490008160N\n",
        "\n",
        "https://tfl.gov.uk/bus/timetable/141"
      ],
      "metadata": {
        "id": "HCSbhSzJ2mxO"
      }
    },
    {
      "cell_type": "markdown",
      "source": [
        "https://tfl.gov.uk/bus/timetable/214?fromId=490012812V&direction=outbound\n",
        "\n",
        "https://tfl.gov.uk/bus/timetable/650/?fromId=490011659G&direction=outbound\n",
        "\n",
        "https://www.google.com/search?q=ibus+penalty+ewt+TfL&sca_esv=2696dd68aa1c6147&sca_upv=1&rlz=1C1GCEA_enGB1114GB1114&sxsrf=ADLYWILL7YhjoDCXrtzGJ4F3O2agY_vpXg%3A1719481077506&ei=9TJ9Zv_KHtWyhbIP-8-N0AY&ved=0ahUKEwi_mcqWvvuGAxVVWUEAHftnA2oQ4dUDCBA&uact=5&oq=ibus+penalty+ewt+TfL&gs_lp=Egxnd3Mtd2l6LXNlcnAiFGlidXMgcGVuYWx0eSBld3QgVGZMMgUQIRigAUjBVVDOB1iZT3AEeAGQAQCYAWygAeIGqgEDOS4yuAEDyAEA-AEBmAIPoAKhB8ICChAAGLADGNYEGEfCAgUQIRifBZgDAIgGAZAGCJIHBDEzLjKgB5cf&sclient=gws-wiz-serp\n",
        "\n",
        "https://tfl.gov.uk/corporate/transparency/freedom-of-information/foi-request-detail?referenceId=FOI-0791-1920\n",
        "\n",
        "chrome-extension://efaidnbmnnnibpcajpcglclefindmkaj/https://content.tfl.gov.uk/uploads/forms/lbsl-tendering-and-contracting.pdf\n",
        "\n",
        "https://techforum.tfl.gov.uk/t/inferring-delays-from-arrival-predictions/2200/2\n",
        "\n",
        "https://www.whatdotheyknow.com/request/bus_stop_frequency_data\n",
        "\n",
        "https://techforum.tfl.gov.uk/t/bus-locations-data-lineref/3257/3\n",
        "\n",
        "https://tfl.gov.uk/bus/status/?DataSetsJson=%5B%5B%22routes%22%2C%22%2Fbus%2Fstatus%2F%3Finput%3D%7B%7Binput%7D%7D%26lineIds%3D%7B%7BlineIds%7D%7D%26startDate%3D%7B%7BstartDate%7D%7D%26endDate%3D%7B%7BendDate%7D%7D%26dateTypeSelect%3D%7B%7BdateTypeSelect%7D%7D%22%5D%2C%5B%22stopPoints%22%2C%22%2Fbus%2Fstatus%2F%3Finput%3D%7B%7Binput%7D%7D%26stopId%3D%7B%7BnaptanId%7D%7D%26startDate%3D%7B%7BstartDate%7D%7D%26endDate%3D%7B%7BendDate%7D%7D%26dateTypeSelect%3D%7B%7BdateTypeSelect%7D%7D%22%5D%5D&Modes=bus&PlaceHolderText=14%20or%20Oxford%20street&dateTypeSelect=This%20weekend&startDate=2024-06-29T00%3A00%3A00&endDate=2024-06-30T23%3A59%3A59\n",
        "\n",
        "\n",
        "chrome-extension://efaidnbmnnnibpcajpcglclefindmkaj/https://content.tfl.gov.uk/tfl-publication-schedule-june-2024.pdf\n",
        "\n",
        "https://bus.data.tfl.gov.uk/boroughreports/current-quarter.pdf\n",
        "\n",
        "https://tfl.gov.uk/forms/14144.aspx"
      ],
      "metadata": {
        "id": "0ntXYTmw2m0C"
      }
    },
    {
      "cell_type": "markdown",
      "source": [
        "https://api.tfl.gov.uk/Line/D7/Route/Sequence/outbound\n",
        "https://api.tfl.gov.uk/Line/122/Route/Sequence/inbound\n",
        "https://api.tfl.gov.uk/Line/179/Route/Sequence/inbound\n",
        "http://www.londonbusroutes.net/times/D07.htm#1_C\n",
        "http://www.londonbusroutes.net/garages.htm\n",
        "https://tfl.gov.uk/forms/14144.aspx\n"
      ],
      "metadata": {
        "id": "FyXWtQiW2m2w"
      }
    },
    {
      "cell_type": "markdown",
      "source": [
        "**IMPORTANT**"
      ],
      "metadata": {
        "id": "tQd8tITWf7cq"
      }
    },
    {
      "cell_type": "markdown",
      "source": [
        "https://tfl.gov.uk/corporate/publications-and-reports/bus-schedules?Query=D7"
      ],
      "metadata": {
        "id": "rXHm9I3if-XP"
      }
    },
    {
      "cell_type": "markdown",
      "source": [
        "https://tfl.gov.uk/bus/timetable/D7/\n"
      ],
      "metadata": {
        "id": "lFoVFpmNf_rX"
      }
    }
  ]
}