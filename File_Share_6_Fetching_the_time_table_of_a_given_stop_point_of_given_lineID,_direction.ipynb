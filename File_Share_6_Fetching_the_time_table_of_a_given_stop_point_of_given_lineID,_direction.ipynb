{
  "nbformat": 4,
  "nbformat_minor": 0,
  "metadata": {
    "colab": {
      "provenance": [],
      "authorship_tag": "ABX9TyMB6ZS5TvNBX8urZJkFBLUl",
      "include_colab_link": true
    },
    "kernelspec": {
      "name": "python3",
      "display_name": "Python 3"
    },
    "language_info": {
      "name": "python"
    }
  },
  "cells": [
    {
      "cell_type": "markdown",
      "metadata": {
        "id": "view-in-github",
        "colab_type": "text"
      },
      "source": [
        "<a href=\"https://colab.research.google.com/github/RemyaVKarthikeyan/AA-Stagecoach-Project/blob/main/File_Share_6_Fetching_the_time_table_of_a_given_stop_point_of_given_lineID%2C_direction.ipynb\" target=\"_parent\"><img src=\"https://colab.research.google.com/assets/colab-badge.svg\" alt=\"Open In Colab\"/></a>"
      ]
    },
    {
      "cell_type": "markdown",
      "source": [
        "Fetching Time table and dividing to slots- (changing 24 to 00) and returning the slot corresponding to present hour"
      ],
      "metadata": {
        "id": "CxTRECLi66HY"
      }
    },
    {
      "cell_type": "code",
      "source": [
        "import requests\n",
        "import pandas as pd\n",
        "from datetime import datetime\n",
        "import pytz\n",
        "\n",
        "# Function to fetch and display timetable\n",
        "def fetch_and_display_timetable(line_id, stop_point_id, direction):\n",
        "    try:\n",
        "        url = f\"https://api.tfl.gov.uk/Line/{line_id}/Timetable/{stop_point_id}\"\n",
        "        params = {'direction': direction}\n",
        "        response = requests.get(url, params=params)\n",
        "        response.raise_for_status()\n",
        "        data = response.json()\n",
        "\n",
        "        # Extract the timetable\n",
        "        schedules = data.get('timetable', {}).get('routes', [{}])[0].get('schedules', [])\n",
        "        if not schedules:\n",
        "            print(\"No timetable available.\")\n",
        "            return\n",
        "\n",
        "        # Create a list of dictionaries to store timetable entries\n",
        "        timetable_entries = []\n",
        "        for schedule in schedules:\n",
        "            for entry in schedule.get('knownJourneys', []):\n",
        "                timetable_entries.append({\n",
        "                    'Hour': int(entry['hour']),\n",
        "                    'Minute': int(entry['minute']),\n",
        "                    'Line ID': line_id,\n",
        "                    'Stop Point ID': stop_point_id,\n",
        "                    'Direction': direction.capitalize()\n",
        "                })\n",
        "\n",
        "        # Create a DataFrame and display it in a readable format\n",
        "        df = pd.DataFrame(timetable_entries)\n",
        "        df = df.sort_values(by=['Hour', 'Minute'])\n",
        "        df['Time'] = df.apply(lambda row: f\"{row['Hour']:02d}:{row['Minute']:02d}\", axis=1)\n",
        "\n",
        "        # Slot assignment\n",
        "        df['Slot'] = df['Hour'] + 1\n",
        "        df['Slot'] = df['Slot'].apply(lambda x: x if x <= 24 else x - 24)\n",
        "\n",
        "        # Adjust hours to range 00-23\n",
        "        df['Hour'] = df['Hour'].apply(lambda x: x if x < 24 else 0)\n",
        "        df['Time'] = df.apply(lambda row: f\"{row['Hour']:02d}:{row['Minute']:02d}\", axis=1)\n",
        "\n",
        "        # Get current hour in BST\n",
        "        bst_tz = pytz.timezone('Europe/London')\n",
        "        current_time = datetime.now(bst_tz)\n",
        "        current_hour = current_time.hour\n",
        "\n",
        "        # Determine current slot\n",
        "        current_slot = current_hour + 1\n",
        "        if current_slot > 24:\n",
        "            current_slot = 1\n",
        "\n",
        "        # Display timetable for the current slot\n",
        "        slot_start = (current_slot - 1) % 24\n",
        "        slot_end = current_slot % 24\n",
        "        print(f\"\\nCurrent Slot {current_slot:02d} (Hour {slot_start:02d}:00 to Hour {slot_end:02d}:00)\")\n",
        "        slot_df = df[df['Slot'] == current_slot]\n",
        "        if not slot_df.empty:\n",
        "            print(slot_df[['Time', 'Line ID', 'Stop Point ID', 'Direction']].to_string(index=False))\n",
        "        else:\n",
        "            print(\"No entries\")\n",
        "\n",
        "    except requests.exceptions.RequestException as e:\n",
        "        print(f\"Error fetching data: {e}\")\n",
        "\n",
        "if __name__ == \"__main__\":\n",
        "    line_id = input(\"Enter line ID: \")\n",
        "    stop_point_id = input(\"Enter stop point ID: \")\n",
        "    direction = input(\"Enter direction (e.g., inbound or outbound): \")\n",
        "    fetch_and_display_timetable(line_id, stop_point_id, direction)\n"
      ],
      "metadata": {
        "colab": {
          "base_uri": "https://localhost:8080/"
        },
        "id": "n5GNDYPHEvUq",
        "outputId": "37698712-777a-4d3e-80f3-3e1b2050c901"
      },
      "execution_count": 1,
      "outputs": [
        {
          "output_type": "stream",
          "name": "stdout",
          "text": [
            "Enter line ID: 179\n",
            "Enter stop point ID: 490005183E\n",
            "Enter direction (e.g., inbound or outbound): outbound\n",
            "\n",
            "Current Slot 16 (Hour 15:00 to Hour 16:00)\n",
            " Time Line ID Stop Point ID Direction\n",
            "15:01     179    490005183E  Outbound\n",
            "15:01     179    490005183E  Outbound\n",
            "15:02     179    490005183E  Outbound\n",
            "15:12     179    490005183E  Outbound\n",
            "15:13     179    490005183E  Outbound\n",
            "15:13     179    490005183E  Outbound\n",
            "15:13     179    490005183E  Outbound\n",
            "15:24     179    490005183E  Outbound\n",
            "15:24     179    490005183E  Outbound\n",
            "15:25     179    490005183E  Outbound\n",
            "15:32     179    490005183E  Outbound\n",
            "15:35     179    490005183E  Outbound\n",
            "15:35     179    490005183E  Outbound\n",
            "15:37     179    490005183E  Outbound\n",
            "15:47     179    490005183E  Outbound\n",
            "15:47     179    490005183E  Outbound\n",
            "15:49     179    490005183E  Outbound\n",
            "15:51     179    490005183E  Outbound\n",
            "15:57     179    490005183E  Outbound\n",
            "15:57     179    490005183E  Outbound\n"
          ]
        }
      ]
    }
  ]
}