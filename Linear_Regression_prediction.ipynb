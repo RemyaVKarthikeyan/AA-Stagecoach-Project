{
  "nbformat": 4,
  "nbformat_minor": 0,
  "metadata": {
    "colab": {
      "provenance": [],
      "authorship_tag": "ABX9TyNCoCuVmj+e1e0jetHhMsyN",
      "include_colab_link": true
    },
    "kernelspec": {
      "name": "python3",
      "display_name": "Python 3"
    },
    "language_info": {
      "name": "python"
    }
  },
  "cells": [
    {
      "cell_type": "markdown",
      "metadata": {
        "id": "view-in-github",
        "colab_type": "text"
      },
      "source": [
        "<a href=\"https://colab.research.google.com/github/RemyaVKarthikeyan/AA-Stagecoach-Project/blob/main/Linear_Regression_prediction.ipynb\" target=\"_parent\"><img src=\"https://colab.research.google.com/assets/colab-badge.svg\" alt=\"Open In Colab\"/></a>"
      ]
    },
    {
      "cell_type": "code",
      "execution_count": 1,
      "metadata": {
        "colab": {
          "base_uri": "https://localhost:8080/"
        },
        "id": "L_kAbnQLlUcJ",
        "outputId": "f325bd34-e44d-480d-89f7-2aa9ad703938"
      },
      "outputs": [
        {
          "output_type": "stream",
          "name": "stdout",
          "text": [
            "Predicted AWT for the next two hours: [6.30242753 5.95702809]\n",
            "Predicted EWT for the next two hours: [ 0.30242753 -0.04297191]\n"
          ]
        }
      ],
      "source": [
        "import pandas as pd\n",
        "import numpy as np\n",
        "from sklearn.model_selection import train_test_split\n",
        "from sklearn.linear_model import LinearRegression\n",
        "\n",
        "# Load the data\n",
        "route_EWT_A = pd.read_csv('/content/route_EWT_A.csv')\n",
        "route_EWT_B = pd.read_csv('/content/route_EWT_B.csv')\n",
        "\n",
        "# Replace '-' with NaN and drop rows with NaN values\n",
        "route_EWT_A.replace('-', np.nan, inplace=True)\n",
        "route_EWT_B.replace('-', np.nan, inplace=True)\n",
        "route_EWT_A.dropna(inplace=True)\n",
        "route_EWT_B.dropna(inplace=True)\n",
        "\n",
        "# Convert columns to appropriate data types\n",
        "route_EWT_A['AWT'] = route_EWT_A['AWT'].astype(float)\n",
        "route_EWT_A['EWT'] = route_EWT_A['EWT'].astype(float)\n",
        "route_EWT_B['AWT'] = route_EWT_B['AWT'].astype(float)\n",
        "route_EWT_B['EWT'] = route_EWT_B['EWT'].astype(float)\n",
        "\n",
        "# Function to create features\n",
        "def create_features(df):\n",
        "    df['Time'] = pd.to_datetime(df['Time'], format='%H:%M')\n",
        "    df['Hour'] = df['Time'].dt.hour\n",
        "    df['Minute'] = df['Time'].dt.minute\n",
        "\n",
        "    # Create lag features for AWT and EWT\n",
        "    df['AWT_lag1'] = df['AWT'].shift(1)\n",
        "    df['EWT_lag1'] = df['EWT'].shift(1)\n",
        "\n",
        "    # Rolling average features\n",
        "    df['AWT_roll_mean'] = df['AWT'].rolling(window=4).mean()\n",
        "    df['EWT_roll_mean'] = df['EWT'].rolling(window=4).mean()\n",
        "\n",
        "    # Drop rows with NaN values created by shifting\n",
        "    df = df.dropna()\n",
        "\n",
        "    return df\n",
        "\n",
        "# Create features for both datasets\n",
        "route_EWT_A = create_features(route_EWT_A)\n",
        "route_EWT_B = create_features(route_EWT_B)\n",
        "\n",
        "# Define the features and target\n",
        "features = ['Hour', 'Minute', 'SWT', 'AWT_lag1', 'EWT_lag1', 'AWT_roll_mean', 'EWT_roll_mean']\n",
        "target_awt = 'AWT'\n",
        "target_ewt = 'EWT'\n",
        "\n",
        "# Split the data into training and testing sets\n",
        "X_train, X_test, y_train_awt, y_test_awt = train_test_split(route_EWT_A[features], route_EWT_A[target_awt], test_size=0.2, random_state=42)\n",
        "X_train, X_test, y_train_ewt, y_test_ewt = train_test_split(route_EWT_A[features], route_EWT_A[target_ewt], test_size=0.2, random_state=42)\n",
        "\n",
        "# Train the models\n",
        "model_awt = LinearRegression()\n",
        "model_awt.fit(X_train, y_train_awt)\n",
        "\n",
        "model_ewt = LinearRegression()\n",
        "model_ewt.fit(X_train, y_train_ewt)\n",
        "\n",
        "# Define the SWT values for the next two hours\n",
        "swt_hr1 = 5.80\n",
        "swt_hr2 = 5.90\n",
        "\n",
        "# Create a DataFrame for the next two hours\n",
        "next_hours = pd.DataFrame({\n",
        "    'Hour': [route_EWT_A['Hour'].max() + 1, route_EWT_A['Hour'].max() + 2],\n",
        "    'Minute': [0, 0],\n",
        "    'SWT': [swt_hr1, swt_hr2],\n",
        "    'AWT_lag1': [route_EWT_A['AWT'].iloc[-1], None],\n",
        "    'EWT_lag1': [route_EWT_A['EWT'].iloc[-1], None],\n",
        "    'AWT_roll_mean': [route_EWT_A['AWT'].rolling(window=4).mean().iloc[-1], None],\n",
        "    'EWT_roll_mean': [route_EWT_A['EWT'].rolling(window=4).mean().iloc[-1], None],\n",
        "})\n",
        "\n",
        "# Fill missing values with the last known values\n",
        "next_hours.fillna(method='ffill', inplace=True)\n",
        "\n",
        "# Predict AWT and EWT\n",
        "pred_awt = model_awt.predict(next_hours[features])\n",
        "pred_ewt = model_ewt.predict(next_hours[features])\n",
        "\n",
        "print('Predicted AWT for the next two hours:', pred_awt)\n",
        "print('Predicted EWT for the next two hours:', pred_ewt)\n"
      ]
    }
  ]
}