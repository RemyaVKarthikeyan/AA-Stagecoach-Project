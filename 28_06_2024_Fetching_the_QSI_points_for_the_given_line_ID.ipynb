{
  "nbformat": 4,
  "nbformat_minor": 0,
  "metadata": {
    "colab": {
      "provenance": [],
      "authorship_tag": "ABX9TyOvx9dhkaAOIB16+tGu0hX0",
      "include_colab_link": true
    },
    "kernelspec": {
      "name": "python3",
      "display_name": "Python 3"
    },
    "language_info": {
      "name": "python"
    }
  },
  "cells": [
    {
      "cell_type": "markdown",
      "metadata": {
        "id": "view-in-github",
        "colab_type": "text"
      },
      "source": [
        "<a href=\"https://colab.research.google.com/github/RemyaVKarthikeyan/AA-Stagecoach-Project/blob/main/28_06_2024_Fetching_the_QSI_points_for_the_given_line_ID.ipynb\" target=\"_parent\"><img src=\"https://colab.research.google.com/assets/colab-badge.svg\" alt=\"Open In Colab\"/></a>"
      ]
    },
    {
      "cell_type": "code",
      "source": [
        "# Importing necessary libraries\n",
        "import pandas as pd\n",
        "\n",
        "# Path to the uploaded file (Assuming it's saved in the Colab environment)\n",
        "file_path = '/content/QSI points.xlsx'\n",
        "\n",
        "# Load the Excel file into a DataFrame\n",
        "df = pd.read_excel(file_path)\n",
        "\n",
        "# Display the first few rows of the DataFrame to understand its structure\n",
        "df.head()\n",
        "\n",
        "# Function to process user input and display matching records\n",
        "def find_route_details(lineID):\n",
        "    # Ensure the 'Route' column exists\n",
        "    if 'Route' not in df.columns:\n",
        "        print(\"The 'Route' column is not present in the provided file.\")\n",
        "        return\n",
        "\n",
        "    # Filter the DataFrame based on the lineID\n",
        "    pattern_A = f\"{lineID}_A\"\n",
        "    pattern_B = f\"{lineID}_B\"\n",
        "\n",
        "    # Filter rows where the 'Route' column contains the patterns\n",
        "    filtered_df_A = df[df['Route'].str.contains(pattern_A, na=False)]\n",
        "    filtered_df_B = df[df['Route'].str.contains(pattern_B, na=False)]\n",
        "\n",
        "    # Combine the filtered DataFrames\n",
        "    filtered_df = pd.concat([filtered_df_A, filtered_df_B])\n",
        "\n",
        "    # Check if any matching rows are found\n",
        "    if filtered_df.empty:\n",
        "        print(f\"No matching records found for lineID: {lineID}\")\n",
        "    else:\n",
        "        # Display the relevant columns: Route_Dir_QSI_No, STOP_NUMBER, STOP_NAME\n",
        "        result_df = filtered_df[['Route_Dir_QSI_No', 'STOP_NUMBER', 'STOP_NAME']]\n",
        "        print(result_df)\n",
        "\n",
        "# Ask the user to enter a lineID\n",
        "lineID = input(\"Please enter the lineID: \")\n",
        "\n",
        "# Find and display the route details\n",
        "find_route_details(lineID)\n",
        "\n"
      ],
      "metadata": {
        "colab": {
          "base_uri": "https://localhost:8080/"
        },
        "id": "baBW4n2DU3ZO",
        "outputId": "caebf579-fd8a-472b-ce03-87350d47034b"
      },
      "execution_count": 2,
      "outputs": [
        {
          "output_type": "stream",
          "name": "stdout",
          "text": [
            "Please enter the lineID: 122\n",
            "The 'Route' column is not present in the provided file.\n"
          ]
        }
      ]
    },
    {
      "cell_type": "code",
      "source": [
        "# Importing necessary libraries\n",
        "import pandas as pd\n",
        "\n",
        "# Path to the uploaded file (Assuming it's saved in the Colab environment)\n",
        "file_path = '/content/QSI points.xlsx'\n",
        "\n",
        "# Load the Excel file into a DataFrame\n",
        "df = pd.read_excel(file_path)\n",
        "\n",
        "# Display the first few rows of the DataFrame to understand its structure\n",
        "df.head()\n",
        "\n",
        "# Function to process user input and display matching records\n",
        "def find_route_details(lineID):\n",
        "    # Ensure the 'ROUTE' column exists\n",
        "    if 'ROUTE' not in df.columns:\n",
        "        print(\"The 'ROUTE' column is not present in the provided file.\")\n",
        "        return\n",
        "\n",
        "    # Filter the DataFrame based on the lineID\n",
        "    pattern_A = f\"{lineID}_A\"\n",
        "    pattern_B = f\"{lineID}_B\"\n",
        "\n",
        "    # Filter rows where the 'ROUTE' column contains the patterns\n",
        "    filtered_df_A = df[df['ROUTE'].str.contains(pattern_A, na=False)]\n",
        "    filtered_df_B = df[df['ROUTE'].str.contains(pattern_B, na=False)]\n",
        "\n",
        "    # Combine the filtered DataFrames\n",
        "    filtered_df = pd.concat([filtered_df_A, filtered_df_B])\n",
        "\n",
        "    # Check if any matching rows are found\n",
        "    if filtered_df.empty:\n",
        "        print(f\"No matching records found for lineID: {lineID}\")\n",
        "    else:\n",
        "        # Display the relevant columns: Route_Dir_QSI_No, STOP_NUMBER, STOP_NAME\n",
        "        result_df = filtered_df[['Route_Dir_QSI_No', 'STOP_NUMBER', 'STOP_NAME']]\n",
        "        print(result_df)\n",
        "\n",
        "# Ask the user to enter a lineID\n",
        "lineID = input(\"Please enter the lineID: \")\n",
        "\n",
        "# Find and display the route details\n",
        "find_route_details(lineID)\n"
      ],
      "metadata": {
        "colab": {
          "base_uri": "https://localhost:8080/"
        },
        "id": "b15e7ct-Va3g",
        "outputId": "bda86f3c-411c-4ca4-d3b8-c7017111c571"
      },
      "execution_count": 3,
      "outputs": [
        {
          "output_type": "stream",
          "name": "stdout",
          "text": [
            "Please enter the lineID: 122\n",
            "No matching records found for lineID: 122\n"
          ]
        }
      ]
    },
    {
      "cell_type": "code",
      "source": [
        "# Importing necessary libraries\n",
        "import pandas as pd\n",
        "\n",
        "# Path to the uploaded file (Assuming it's saved in the Colab environment)\n",
        "file_path = '/content/QSI points.xlsx'\n",
        "\n",
        "# Load the Excel file into a DataFrame\n",
        "df = pd.read_excel(file_path)\n",
        "\n",
        "# Display the first few rows of the DataFrame to understand its structure\n",
        "df.head()\n",
        "\n",
        "# Function to process user input and display matching records\n",
        "def find_route_details(lineID):\n",
        "    # Ensure the 'Route_Dir_QSI_No' column exists\n",
        "    if 'Route_Dir_QSI_No' not in df.columns:\n",
        "        print(\"The 'Route_Dir_QSI_No' column is not present in the provided file.\")\n",
        "        return\n",
        "\n",
        "    # Filter the DataFrame based on the lineID\n",
        "    pattern_A = f\"{lineID}_A\"\n",
        "    pattern_B = f\"{lineID}_B\"\n",
        "\n",
        "    # Filter rows where the 'Route_Dir_QSI_No' column contains the patterns\n",
        "    filtered_df_A = df[df['Route_Dir_QSI_No'].str.contains(pattern_A, na=False)]\n",
        "    filtered_df_B = df[df['Route_Dir_QSI_No'].str.contains(pattern_B, na=False)]\n",
        "\n",
        "    # Combine the filtered DataFrames\n",
        "    filtered_df = pd.concat([filtered_df_A, filtered_df_B])\n",
        "\n",
        "    # Check if any matching rows are found\n",
        "    if filtered_df.empty:\n",
        "        print(f\"No matching records found for lineID: {lineID}\")\n",
        "    else:\n",
        "        # Display the relevant columns: Route_Dir_QSI_No, STOP_NUMBER, STOP_NAME\n",
        "        result_df = filtered_df[['QSI_No','Route_Dir_QSI_No', 'STOP_NUMBER', 'STOP_NAME']]\n",
        "        print(result_df)\n",
        "\n",
        "# Ask the user to enter a lineID\n",
        "lineID = input(\"Please enter the lineID: \")\n",
        "\n",
        "# Find and display the route details\n",
        "find_route_details(lineID)\n"
      ],
      "metadata": {
        "colab": {
          "base_uri": "https://localhost:8080/"
        },
        "id": "rE3jDxcuVqWj",
        "outputId": "64b5b8a1-a44d-4278-c551-94f276aa2777"
      },
      "execution_count": 5,
      "outputs": [
        {
          "output_type": "stream",
          "name": "stdout",
          "text": [
            "Please enter the lineID: 122\n",
            "    QSI_No Route_Dir_QSI_No STOP_NUMBER  \\\n",
            "0        1           122_A1       36510   \n",
            "1        2           122_A2       35483   \n",
            "2        3           122_A3       26653   \n",
            "3        4           122_A4       20134   \n",
            "4        5           122_A5       18188   \n",
            "5        6           122_A6      BP1115   \n",
            "6        7           122_A7       13875   \n",
            "7        8           122_A8       13869   \n",
            "8        9           122_A9       29309   \n",
            "9       10          122_A10       17317   \n",
            "10       1           122_B1      BP2417   \n",
            "11       2           122_B2       17316   \n",
            "12       3           122_B3       17307   \n",
            "13       4           122_B4       34481   \n",
            "14       5           122_B5       13874   \n",
            "15       6           122_B6      BP1114   \n",
            "16       7           122_B7      BP4533   \n",
            "17       8           122_B8       26679   \n",
            "18       9           122_B9       26654   \n",
            "\n",
            "                                 STOP_NAME  \n",
            "0       Plumstead Road / Plumstead Station  \n",
            "1                 Woolwich Arsenal Station  \n",
            "2      Well Hall Road / Shooters Hill Road  \n",
            "3           Eltham Road / Westhorne Avenue  \n",
            "4                                Lee Green  \n",
            "5                          Lewisham Centre  \n",
            "6                     Crofton Park Station  \n",
            "7                  Brockley Rise / Chandos  \n",
            "8   Forest Hill Station  / Devonshire Road  \n",
            "9             Sydenham Station  / Kirkdale  \n",
            "10                   Crystal Palace Parade  \n",
            "11            Sydenham Station  / Kirkdale  \n",
            "12   Forest Hill Station  / Dartmouth Road  \n",
            "13           Stondon Park / Honor Oak Park  \n",
            "14                           Beecroft Road  \n",
            "15                         Lewisham Centre  \n",
            "16                               Lee Green  \n",
            "17          Eltham Road / Westhorne Avenue  \n",
            "18       Academy Road / Shooters Hill Road  \n"
          ]
        }
      ]
    },
    {
      "cell_type": "code",
      "source": [
        "# Importing necessary libraries\n",
        "import pandas as pd\n",
        "\n",
        "# Path to the uploaded file (Assuming it's saved in the Colab environment)\n",
        "file_path = '/content/QSI points.xlsx'\n",
        "\n",
        "# Load the Excel file into a DataFrame\n",
        "df = pd.read_excel(file_path)\n",
        "\n",
        "# Display the first few rows of the DataFrame to understand its structure\n",
        "df.head()\n",
        "\n",
        "# Function to process user input and display matching records\n",
        "def find_route_details(lineID):\n",
        "    # Ensure the 'Route_Dir_QSI_No' column exists\n",
        "    if 'Route_Dir_QSI_No' not in df.columns:\n",
        "        print(\"The 'Route_Dir_QSI_No' column is not present in the provided file.\")\n",
        "        return\n",
        "\n",
        "    # Filter the DataFrame based on the lineID\n",
        "    pattern_A = f\"{lineID}_A\"\n",
        "    pattern_B = f\"{lineID}_B\"\n",
        "\n",
        "    # Filter rows where the 'Route_Dir_QSI_No' column contains the patterns\n",
        "    filtered_df_A = df[df['Route_Dir_QSI_No'].str.contains(pattern_A, na=False)]\n",
        "    filtered_df_B = df[df['Route_Dir_QSI_No'].str.contains(pattern_B, na=False)]\n",
        "\n",
        "    # Combine the filtered DataFrames\n",
        "    filtered_df = pd.concat([filtered_df_A, filtered_df_B])\n",
        "\n",
        "    # Check if any matching rows are found\n",
        "    if filtered_df.empty:\n",
        "        print(f\"No matching records found for lineID: {lineID}\")\n",
        "    else:\n",
        "        # Display the relevant columns: QSI_No, Route_Dir_QSI_No, STOP_NUMBER, STOP_NAME\n",
        "        result_df = filtered_df[['Route_Dir_QSI_No', 'STOP_NUMBER', 'STOP_NAME']]\n",
        "\n",
        "        # Reset the index of the DataFrame and drop the old index column\n",
        "        result_df.reset_index(drop=True, inplace=True)\n",
        "\n",
        "        # Print the resulting DataFrame\n",
        "        print(result_df)\n",
        "\n",
        "# Ask the user to enter a lineID\n",
        "lineID = input(\"Please enter the lineID: \")\n",
        "\n",
        "# Find and display the route details\n",
        "find_route_details(lineID)\n"
      ],
      "metadata": {
        "colab": {
          "base_uri": "https://localhost:8080/"
        },
        "id": "-GFv7s1FW2Vb",
        "outputId": "1ff567fe-5f4f-4ee4-817b-9d4d898e42c4"
      },
      "execution_count": 11,
      "outputs": [
        {
          "output_type": "stream",
          "name": "stdout",
          "text": [
            "Please enter the lineID: 179\n",
            "   Route_Dir_QSI_No STOP_NUMBER                            STOP_NAME\n",
            "0            179_A1       34016                    Chingford Station\n",
            "1            179_A2       15316                          Friday Hill\n",
            "2            179_A3       15334      Woodford Green / Broadmead Road\n",
            "3            179_A4       29463               South Woodford Station\n",
            "4            179_A5       R0499           Charlie Brown'S Roundabout\n",
            "5            179_A6        8622  Gants Hill Station / Cranbrook Road\n",
            "6            179_A7        FC46                       Ilford Station\n",
            "7            179_B1        FC04                      Hainault Street\n",
            "8            179_B2        FC39                       Ilford Station\n",
            "9            179_B3        8621  Gants Hill Station / Cranbrook Road\n",
            "10           179_B4       R0498                        Southend Road\n",
            "11           179_B5        7509               South Woodford Station\n",
            "12           179_B6        4363      Woodford Green / Broadmead Road\n",
            "13           179_B7       R0478             Kings Road / Friday Hill\n"
          ]
        }
      ]
    }
  ]
}