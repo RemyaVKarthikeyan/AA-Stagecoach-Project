{
  "nbformat": 4,
  "nbformat_minor": 0,
  "metadata": {
    "colab": {
      "provenance": [],
      "authorship_tag": "ABX9TyP1WoC1v3oNoPSPWcHca3g1",
      "include_colab_link": true
    },
    "kernelspec": {
      "name": "python3",
      "display_name": "Python 3"
    },
    "language_info": {
      "name": "python"
    }
  },
  "cells": [
    {
      "cell_type": "markdown",
      "metadata": {
        "id": "view-in-github",
        "colab_type": "text"
      },
      "source": [
        "<a href=\"https://colab.research.google.com/github/RemyaVKarthikeyan/AA-Stagecoach-Project/blob/main/File_share_12_Fetching_the_QSI_points_for_the_given_line_ID.ipynb\" target=\"_parent\"><img src=\"https://colab.research.google.com/assets/colab-badge.svg\" alt=\"Open In Colab\"/></a>"
      ]
    },
    {
      "cell_type": "code",
      "source": [
        "# Importing necessary libraries\n",
        "import pandas as pd\n",
        "\n",
        "# Path to the uploaded file (Assuming it's saved in the Colab environment)\n",
        "file_path = '/content/QSI points.xlsx'\n",
        "\n",
        "# Load the Excel file into a DataFrame\n",
        "df = pd.read_excel(file_path)\n",
        "\n",
        "# Display the first few rows of the DataFrame to understand its structure\n",
        "df.head()\n",
        "\n",
        "# Function to process user input and display matching records\n",
        "def find_route_details(lineID):\n",
        "    # Ensure the 'Route_Dir_QSI_No' column exists\n",
        "    if 'Route_Dir_QSI_No' not in df.columns:\n",
        "        print(\"The 'Route_Dir_QSI_No' column is not present in the provided file.\")\n",
        "        return\n",
        "\n",
        "    # Convert the lineID to uppercase to ensure case-insensitivity\n",
        "    lineID = lineID.upper()\n",
        "\n",
        "    # Convert the 'Route_Dir_QSI_No' column to uppercase for comparison\n",
        "    df['Route_Dir_QSI_No'] = df['Route_Dir_QSI_No'].str.upper()\n",
        "\n",
        "    # Filter the DataFrame based on the lineID\n",
        "    pattern_A = f\"^{lineID}_A\\\\d+$\"  # Regular expression for 25_A**\n",
        "    pattern_B = f\"^{lineID}_B\\\\d+$\"  # Regular expression for 25_B**\n",
        "\n",
        "    # Filter rows where the 'Route_Dir_QSI_No' column matches the patterns\n",
        "    filtered_df_A = df[df['Route_Dir_QSI_No'].str.match(pattern_A, na=False)]\n",
        "    filtered_df_B = df[df['Route_Dir_QSI_No'].str.match(pattern_B, na=False)]\n",
        "\n",
        "    # Combine the filtered DataFrames\n",
        "    filtered_df = pd.concat([filtered_df_A, filtered_df_B])\n",
        "\n",
        "    # Check if any matching rows are found\n",
        "    if filtered_df.empty:\n",
        "        print(f\"No matching records found for lineID: {lineID}\")\n",
        "    else:\n",
        "        # Display the relevant columns: QSI_No, Route_Dir_QSI_No, STOP_NUMBER, STOP_NAME\n",
        "        result_df = filtered_df[['Route_Dir_QSI_No', 'STOP_NUMBER', 'STOP_NAME']]\n",
        "\n",
        "        # Reset the index of the DataFrame and drop the old index column\n",
        "        result_df.reset_index(drop=True, inplace=True)\n",
        "\n",
        "        # Print the resulting DataFrame\n",
        "        print(result_df)\n",
        "\n",
        "# Ask the user to enter a lineID\n",
        "lineID = input(\"Please enter the lineID: \")\n",
        "\n",
        "# Find and display the route details\n",
        "find_route_details(lineID)\n"
      ],
      "metadata": {
        "colab": {
          "base_uri": "https://localhost:8080/"
        },
        "id": "rVQHGW0bZpcI",
        "outputId": "a4040501-ba07-425f-f49e-cec7bae8d012"
      },
      "execution_count": 2,
      "outputs": [
        {
          "output_type": "stream",
          "name": "stdout",
          "text": [
            "Please enter the lineID: 25\n",
            "   Route_Dir_QSI_No STOP_NUMBER                              STOP_NAME\n",
            "0             25_A1        FC41                        Hainault Street\n",
            "1             25_A2        4643                      High Street North\n",
            "2             25_A3       14581                           Green Street\n",
            "3             25_A4      BP6275                  Stratford Bus Station\n",
            "4             25_A5       25096                     Bow Church Station\n",
            "5             25_A6        4826                       Mile End Station\n",
            "6             25_A7         943   Whitechapel Stn  / Royal London Hosp\n",
            "7             25_A8       33683                        Aldgate Station\n",
            "8             25_A9        8559               Bank Station  / Cornhill\n",
            "9             25_B1        2018                         Holborn Circus\n",
            "10            25_B2        8558               Bank Station  / Cornhill\n",
            "11            25_B3      BP5998                        Aldgate Station\n",
            "12            25_B4         944  Whitechapel Stn   / Royal London Hosp\n",
            "13            25_B5       20674                       Mile End Station\n",
            "14            25_B6         902                     Bow Church Station\n",
            "15            25_B7       BP976                  Stratford Bus Station\n",
            "16            25_B8        4644                      High Street North\n"
          ]
        }
      ]
    }
  ]
}